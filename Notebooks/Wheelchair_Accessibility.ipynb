{
 "cells": [
  {
   "cell_type": "code",
   "execution_count": null,
   "id": "0d99d761",
   "metadata": {},
   "outputs": [
    {
     "name": "stdout",
     "output_type": "stream",
     "text": [
      "✅ Wheelchair accessibility added.\n"
     ]
    }
   ],
   "source": [
    "# Add wheelchair accessibility manually or based on rules\n",
    "import geopandas as gpd\n",
    "\n",
    "path = r\"C:\\Users\\Admin\\OneDrive - United States International University (USIU)\\Desktop\\USIU MAp Project\\combined\\combined_routes_named.geojson\"\n",
    "gdf = gpd.read_file(path)\n",
    "\n",
    "# === Example: Make all pedestrian paths accessible by default\n",
    "# and exclude a few based on route name keywords\n",
    "gdf[\"wheelchair_accessible\"] = True\n",
    "\n",
    "# Set False if path name includes \"steps\", \"steep\", etc.\n",
    "keywords = [\"steps\", \"steep\", \"stair\", \"narrow\"]\n",
    "for keyword in keywords:\n",
    "    gdf.loc[gdf[\"route_name\"].str.lower().str.contains(keyword), \"wheelchair_accessible\"] = False\n",
    "\n",
    "# Save updated file\n",
    "gdf.to_file(path, driver=\"GeoJSON\")\n",
    "print(\"✅ Wheelchair accessibility added.\")\n"
   ]
  },
  {
   "cell_type": "markdown",
   "id": "278c4986",
   "metadata": {},
   "source": [
    ".\\run.ps1\n"
   ]
  }
 ],
 "metadata": {
  "kernelspec": {
   "display_name": "Python 3",
   "language": "python",
   "name": "python3"
  },
  "language_info": {
   "codemirror_mode": {
    "name": "ipython",
    "version": 3
   },
   "file_extension": ".py",
   "mimetype": "text/x-python",
   "name": "python",
   "nbconvert_exporter": "python",
   "pygments_lexer": "ipython3",
   "version": "3.11.8"
  }
 },
 "nbformat": 4,
 "nbformat_minor": 5
}
