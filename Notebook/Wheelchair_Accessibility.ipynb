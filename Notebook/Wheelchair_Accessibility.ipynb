{
 "cells": [
  {
   "cell_type": "code",
   "execution_count": 2,
   "id": "0d99d761",
   "metadata": {},
   "outputs": [
    {
     "name": "stdout",
     "output_type": "stream",
     "text": [
      "✅ Wheelchair accessibility added.\n"
     ]
    }
   ],
   "source": [
    "# Add wheelchair accessibility manually or based on rules\n",
    "import geopandas as gpd\n",
    "\n",
    "path = r\"C:\\Users\\Admin\\OneDrive - United States International University (USIU)\\Desktop\\USIU MAp Project\\combined\\combined_routes_named.geojson\"\n",
    "gdf = gpd.read_file(path)\n",
    "\n",
    "# === Example: Make all pedestrian paths accessible by default\n",
    "# and exclude a few based on route name keywords\n",
    "gdf[\"wheelchair_accessible\"] = True\n",
    "\n",
    "# Set False if path name includes \"steps\", \"steep\", etc.\n",
    "keywords = [\"steps\", \"steep\", \"stair\", \"narrow\"]\n",
    "for keyword in keywords:\n",
    "    gdf.loc[gdf[\"route_name\"].str.lower().str.contains(keyword), \"wheelchair_accessible\"] = False\n",
    "\n",
    "# Save updated file\n",
    "gdf.to_file(path, driver=\"GeoJSON\")\n",
    "print(\"✅ Wheelchair accessibility added.\")\n"
   ]
  },
  {
   "cell_type": "code",
   "execution_count": 5,
   "id": "5d476f78",
   "metadata": {},
   "outputs": [
    {
     "name": "stdout",
     "output_type": "stream",
     "text": [
      "Requirement already satisfied: flask in c:\\users\\admin\\appdata\\local\\programs\\python\\python311\\lib\\site-packages (3.0.3)Note: you may need to restart the kernel to use updated packages.\n",
      "\n",
      "Requirement already satisfied: Werkzeug>=3.0.0 in c:\\users\\admin\\appdata\\local\\programs\\python\\python311\\lib\\site-packages (from flask) (3.0.4)\n",
      "Requirement already satisfied: Jinja2>=3.1.2 in c:\\users\\admin\\appdata\\local\\programs\\python\\python311\\lib\\site-packages (from flask) (3.1.3)\n",
      "Requirement already satisfied: itsdangerous>=2.1.2 in c:\\users\\admin\\appdata\\local\\programs\\python\\python311\\lib\\site-packages (from flask) (2.2.0)\n",
      "Requirement already satisfied: click>=8.1.3 in c:\\users\\admin\\appdata\\local\\programs\\python\\python311\\lib\\site-packages (from flask) (8.1.7)\n",
      "Requirement already satisfied: blinker>=1.6.2 in c:\\users\\admin\\appdata\\local\\programs\\python\\python311\\lib\\site-packages (from flask) (1.8.2)\n",
      "Requirement already satisfied: colorama in c:\\users\\admin\\appdata\\local\\programs\\python\\python311\\lib\\site-packages (from click>=8.1.3->flask) (0.4.6)\n",
      "Requirement already satisfied: MarkupSafe>=2.0 in c:\\users\\admin\\appdata\\local\\programs\\python\\python311\\lib\\site-packages (from Jinja2>=3.1.2->flask) (2.1.5)\n"
     ]
    }
   ],
   "source": [
    "pip install flask\n"
   ]
  },
  {
   "cell_type": "code",
   "execution_count": 4,
   "id": "3cbed4e8",
   "metadata": {},
   "outputs": [
    {
     "ename": "NameError",
     "evalue": "name 'start_node' is not defined",
     "output_type": "error",
     "traceback": [
      "\u001b[1;31m---------------------------------------------------------------------------\u001b[0m",
      "\u001b[1;31mNameError\u001b[0m                                 Traceback (most recent call last)",
      "Cell \u001b[1;32mIn[4], line 26\u001b[0m\n\u001b[0;32m     23\u001b[0m G_active \u001b[38;5;241m=\u001b[39m build_wheelchair_graph(G) \u001b[38;5;28;01mif\u001b[39;00m wheelchair_mode \u001b[38;5;28;01melse\u001b[39;00m G\n\u001b[0;32m     25\u001b[0m \u001b[38;5;66;03m# === A* path using filtered graph\u001b[39;00m\n\u001b[1;32m---> 26\u001b[0m \u001b[38;5;28;01mif\u001b[39;00m nx\u001b[38;5;241m.\u001b[39mhas_path(G_active, \u001b[43mstart_node\u001b[49m, end_node):\n\u001b[0;32m     27\u001b[0m     path \u001b[38;5;241m=\u001b[39m nx\u001b[38;5;241m.\u001b[39mastar_path(G_active, start_node, end_node, heuristic\u001b[38;5;241m=\u001b[39meuclidean_heuristic, weight\u001b[38;5;241m=\u001b[39m\u001b[38;5;124m\"\u001b[39m\u001b[38;5;124mweight\u001b[39m\u001b[38;5;124m\"\u001b[39m)\n\u001b[0;32m     28\u001b[0m     \u001b[38;5;28mprint\u001b[39m(\u001b[38;5;124m\"\u001b[39m\u001b[38;5;124m♿ Wheelchair-friendly path:\u001b[39m\u001b[38;5;124m\"\u001b[39m)\n",
      "\u001b[1;31mNameError\u001b[0m: name 'start_node' is not defined"
     ]
    }
   ],
   "source": [
    "import geopandas as gpd\n",
    "import networkx as nx\n",
    "import matplotlib.pyplot as plt\n",
    "\n",
    "# === Load GeoJSON ===\n",
    "file_path = r\"C:\\Users\\Admin\\OneDrive - United States International University (USIU)\\Desktop\\USIU MAp Project\\combined\\combined_routes_named.geojson\"\n",
    "gdf = gpd.read_file(file_path)\n",
    "\n",
    "# === Build Graph ===\n",
    "G = nx.Graph()\n",
    "# === Define a wheelchair-friendly subgraph\n",
    "def build_wheelchair_graph(G):\n",
    "    G_wc = nx.Graph()\n",
    "    for u, v, data in G.edges(data=True):\n",
    "        if data.get(\"wheelchair_accessible\", True):\n",
    "            G_wc.add_edge(u, v, **data)\n",
    "            G_wc.add_node(u, pos=G.nodes[u]['pos'])\n",
    "            G_wc.add_node(v, pos=G.nodes[v]['pos'])\n",
    "    return G_wc\n",
    "\n",
    "# === Example use\n",
    "wheelchair_mode = True  # set from user input later\n",
    "G_active = build_wheelchair_graph(G) if wheelchair_mode else G\n",
    "\n",
    "# === A* path using filtered graph\n",
    "if nx.has_path(G_active, start_node, end_node):\n",
    "    path = nx.astar_path(G_active, start_node, end_node, heuristic=euclidean_heuristic, weight=\"weight\")\n",
    "    print(\"♿ Wheelchair-friendly path:\")\n",
    "    print(\" ➝ \".join(path))\n",
    "else:\n",
    "    print(\"❌ No wheelchair-friendly path found.\")\n"
   ]
  },
  {
   "cell_type": "markdown",
   "id": "278c4986",
   "metadata": {},
   "source": [
    ".\\run.ps1\n"
   ]
  }
 ],
 "metadata": {
  "kernelspec": {
   "display_name": "Python 3",
   "language": "python",
   "name": "python3"
  },
  "language_info": {
   "codemirror_mode": {
    "name": "ipython",
    "version": 3
   },
   "file_extension": ".py",
   "mimetype": "text/x-python",
   "name": "python",
   "nbconvert_exporter": "python",
   "pygments_lexer": "ipython3",
   "version": "3.11.8"
  }
 },
 "nbformat": 4,
 "nbformat_minor": 5
}
